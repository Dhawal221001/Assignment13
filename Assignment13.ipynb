{
 "cells": [
  {
   "cell_type": "markdown",
   "id": "0f86f8cb-3e12-4254-ada5-6c82492855e9",
   "metadata": {},
   "source": [
    "## Q1. What is multithreading in python? hy is it used? Name the module used to handle threads in python"
   ]
  },
  {
   "cell_type": "markdown",
   "id": "01136e83-2784-4be1-8fdc-4fe46b2faf96",
   "metadata": {},
   "source": [
    "### A process of running multiple threads simultaneously within a single process.\n",
    "\n",
    "### 'Threading' module used in python to handle threads."
   ]
  },
  {
   "cell_type": "markdown",
   "id": "cd5ac6a3-e295-4d9f-a7dc-ddea954e5a45",
   "metadata": {},
   "source": [
    "## Q2. Why threading module used? Write the use of the following functions:\n",
    "    ## 1.activeCount()\n",
    "    ## 2.currentThread()\n",
    "    ## 3.enumerate()"
   ]
  },
  {
   "cell_type": "markdown",
   "id": "7950ad01-51a7-4603-80a1-bfd03e096933",
   "metadata": {},
   "source": [
    "### Threading module is used to provide high level supports to thread."
   ]
  },
  {
   "cell_type": "markdown",
   "id": "58d3f411-d57b-452b-b139-ed7717053101",
   "metadata": {},
   "source": [
    "###  1. .activeCount(), returns the number of thread objects that are active.\n",
    "### 2. .currentThread(), returns the number of thread objects in the caller's thread control.\n",
    "### 3. .enumerate(), returns a list of all thread objects that are currently active.\n"
   ]
  },
  {
   "cell_type": "markdown",
   "id": "0ac11224-8bb9-45b1-9d87-ca3ebf69538a",
   "metadata": {},
   "source": [
    "## Q3. Explain the following functions:\n",
    "   ## 1.run()\n",
    "   ## 2.start()\n",
    "   ## 3.join()\n",
    "   ## 4.isAlive() "
   ]
  },
  {
   "cell_type": "markdown",
   "id": "4d2d54a4-114e-4ead-8674-41687a3b064c",
   "metadata": {},
   "source": [
    "### .run(),  method is the entry point ofor a thread.\n",
    "### .start(), method starts a thread by calling the run mehtod.\n",
    "### .join(), method waits for thread to terminate.\n",
    "### .isAlive(), method checks whether a thread is still executing.\n"
   ]
  },
  {
   "cell_type": "markdown",
   "id": "12f88807-355e-4ab2-b417-2c13b78a6621",
   "metadata": {},
   "source": [
    "## Q4. Write a python program to create two threads. Thread one must print the list of squares and thread two must print the list of cubes"
   ]
  },
  {
   "cell_type": "code",
   "execution_count": 23,
   "id": "ce8d1d84-bbf5-4b22-9427-2830706d0686",
   "metadata": {},
   "outputs": [],
   "source": [
    "import threading\n",
    "def squares(x):\n",
    "    print('the square of the number {} = {}'.format(x,x**2) )"
   ]
  },
  {
   "cell_type": "code",
   "execution_count": 24,
   "id": "83905127-0c96-460d-9a55-e1c407376463",
   "metadata": {},
   "outputs": [],
   "source": [
    "thread1=[threading.Thread(target=squares,args=(i,)) for i in [1,2,3,4,5,6]]"
   ]
  },
  {
   "cell_type": "code",
   "execution_count": 25,
   "id": "44ed1bac-2e20-4250-af6a-eea3a41b2843",
   "metadata": {},
   "outputs": [
    {
     "data": {
      "text/plain": [
       "[<Thread(Thread-35 (squares), initial)>,\n",
       " <Thread(Thread-36 (squares), initial)>,\n",
       " <Thread(Thread-37 (squares), initial)>,\n",
       " <Thread(Thread-38 (squares), initial)>,\n",
       " <Thread(Thread-39 (squares), initial)>,\n",
       " <Thread(Thread-40 (squares), initial)>]"
      ]
     },
     "execution_count": 25,
     "metadata": {},
     "output_type": "execute_result"
    }
   ],
   "source": [
    "thread1"
   ]
  },
  {
   "cell_type": "code",
   "execution_count": 26,
   "id": "4b3099d9-020c-47c1-aaee-1ec19ebf631a",
   "metadata": {},
   "outputs": [
    {
     "name": "stdout",
     "output_type": "stream",
     "text": [
      "the square of the number 1 = 1\n",
      "the square of the number 2 = 4\n",
      "the square of the number 3 = 9\n",
      "the square of the number 4 = 16\n",
      "the square of the number 5 = 25\n",
      "the square of the number 6 = 36\n"
     ]
    }
   ],
   "source": [
    "for t in thread1:\n",
    "    t.start()"
   ]
  },
  {
   "cell_type": "code",
   "execution_count": 27,
   "id": "3c355c43-069d-47b9-83e8-d5fad94c1d5b",
   "metadata": {},
   "outputs": [],
   "source": [
    "def cubes(x):\n",
    "    print('the cubes of the number {} = {}'.format(x,x**2))"
   ]
  },
  {
   "cell_type": "code",
   "execution_count": 29,
   "id": "3481758c-9fd9-4642-aeb6-5233f735a97a",
   "metadata": {},
   "outputs": [],
   "source": [
    "thread2=[threading.Thread(target=cubes,args=(i,)) for i in [1,2,3,4,5,6]]"
   ]
  },
  {
   "cell_type": "code",
   "execution_count": 30,
   "id": "b5ab2a83-7693-4bfb-9273-5db7edd416c4",
   "metadata": {},
   "outputs": [
    {
     "data": {
      "text/plain": [
       "[<Thread(Thread-41 (cubes), initial)>,\n",
       " <Thread(Thread-42 (cubes), initial)>,\n",
       " <Thread(Thread-43 (cubes), initial)>,\n",
       " <Thread(Thread-44 (cubes), initial)>,\n",
       " <Thread(Thread-45 (cubes), initial)>,\n",
       " <Thread(Thread-46 (cubes), initial)>]"
      ]
     },
     "execution_count": 30,
     "metadata": {},
     "output_type": "execute_result"
    }
   ],
   "source": [
    "thread2"
   ]
  },
  {
   "cell_type": "code",
   "execution_count": 31,
   "id": "eb73d39f-e595-4366-a6ec-cf7aa8c21f3b",
   "metadata": {},
   "outputs": [
    {
     "name": "stdout",
     "output_type": "stream",
     "text": [
      "the cubes of the number 1 = 1\n",
      "the cubes of the number 2 = 4\n",
      "the cubes of the number 3 = 9\n",
      "the cubes of the number 4 = 16\n",
      "the cubes of the number 5 = 25\n",
      "the cubes of the number 6 = 36\n"
     ]
    }
   ],
   "source": [
    "for t in thread2:\n",
    "    t.start()"
   ]
  },
  {
   "cell_type": "markdown",
   "id": "33985d12-e373-4e46-81ed-5e2050b0b634",
   "metadata": {},
   "source": [
    "## Q5.State advantages and disadvantages of multithreading "
   ]
  },
  {
   "cell_type": "markdown",
   "id": "a4ebba7a-7537-4368-8c43-c3d993357be4",
   "metadata": {},
   "source": [
    "### Advantages of Multithreading:\n",
    "### 1.Enhanced performance by decreased development time.\n",
    "### 2.Simultaneous and parallelized occurrence of tasks\n",
    "### 3.Better use of CPU resource"
   ]
  },
  {
   "cell_type": "markdown",
   "id": "bf768c52-87aa-4ce7-b3d2-c1349ce585ab",
   "metadata": {},
   "source": [
    "### Disadvantages of Multithreading:\n",
    "### 1.Complex debugging and testing processes\n",
    "### 2.Increased potential for deadlock occurrence\n",
    "### 3.Increased difficulty level in writing a program"
   ]
  },
  {
   "cell_type": "markdown",
   "id": "d102978e-f863-4e0d-8ead-3b10d863f037",
   "metadata": {},
   "source": [
    "## Q6.Explain deadlocks and race conditions."
   ]
  },
  {
   "cell_type": "markdown",
   "id": "81538b0b-b963-445c-bd77-5a6b5c764089",
   "metadata": {},
   "source": [
    "### A deadlock is a concurrency failure mode where a thread or threads wait for a condition that never occurs."
   ]
  },
  {
   "cell_type": "markdown",
   "id": "d0086c11-9769-4309-8420-eefd66e7bf7f",
   "metadata": {},
   "source": [
    "### A race condition occurs when two threads access a shared variable at the same time. "
   ]
  },
  {
   "cell_type": "code",
   "execution_count": null,
   "id": "834677dd-9ade-4005-9280-95376219aa37",
   "metadata": {},
   "outputs": [],
   "source": []
  }
 ],
 "metadata": {
  "kernelspec": {
   "display_name": "Python 3 (ipykernel)",
   "language": "python",
   "name": "python3"
  },
  "language_info": {
   "codemirror_mode": {
    "name": "ipython",
    "version": 3
   },
   "file_extension": ".py",
   "mimetype": "text/x-python",
   "name": "python",
   "nbconvert_exporter": "python",
   "pygments_lexer": "ipython3",
   "version": "3.10.8"
  }
 },
 "nbformat": 4,
 "nbformat_minor": 5
}
